{
  "cells": [
    {
      "cell_type": "markdown",
      "metadata": {
        "id": "view-in-github",
        "colab_type": "text"
      },
      "source": [
        "<a href=\"https://colab.research.google.com/github/Nourelimanehed/user_classification_comp/blob/main/UserClassification.ipynb\" target=\"_parent\"><img src=\"https://colab.research.google.com/assets/colab-badge.svg\" alt=\"Open In Colab\"/></a>"
      ]
    },
    {
      "cell_type": "markdown",
      "id": "968f6584",
      "metadata": {
        "id": "968f6584"
      },
      "source": [
        "# Importing the relevant libraries"
      ]
    },
    {
      "cell_type": "code",
      "execution_count": 1,
      "id": "9316a818",
      "metadata": {
        "id": "9316a818"
      },
      "outputs": [],
      "source": [
        "import pandas as pd\n",
        "\n",
        "from sklearn.svm import SVC\n",
        "from sklearn.neighbors import KNeighborsClassifier\n",
        "from sklearn.ensemble import RandomForestClassifier\n",
        "from sklearn.model_selection import train_test_split, GridSearchCV\n",
        "from sklearn.preprocessing import OrdinalEncoder, MinMaxScaler\n",
        "from sklearn.metrics import ConfusionMatrixDisplay, classification_report\n",
        "from sklearn.tree import DecisionTreeClassifier, plot_tree\n",
        "\n",
        "from statsmodels.stats.outliers_influence import variance_inflation_factor\n",
        "import statsmodels.api as sm\n",
        "\n",
        "import matplotlib.pyplot as plt\n",
        "\n",
        "import seaborn as sns\n",
        "\n",
        "import numpy as np"
      ]
    },
    {
      "cell_type": "markdown",
      "id": "df416b8a",
      "metadata": {
        "id": "df416b8a"
      },
      "source": [
        "# Data Preprocessing"
      ]
    },
    {
      "cell_type": "markdown",
      "id": "f434aead",
      "metadata": {
        "id": "f434aead"
      },
      "source": [
        "### Importing the Database"
      ]
    },
    {
      "cell_type": "code",
      "execution_count": null,
      "id": "2c620a5a",
      "metadata": {
        "id": "2c620a5a"
      },
      "outputs": [],
      "source": [
        "raw_data = pd.read_csv('ml_datasource.csv')\n",
        "raw_data.head()"
      ]
    },
    {
      "cell_type": "code",
      "execution_count": null,
      "id": "7e4580c8",
      "metadata": {
        "id": "7e4580c8"
      },
      "outputs": [],
      "source": [
        "data = raw_data.copy()"
      ]
    },
    {
      "cell_type": "markdown",
      "id": "0e7ab2c7",
      "metadata": {
        "id": "0e7ab2c7"
      },
      "source": [
        "### Removing Outliers"
      ]
    },
    {
      "cell_type": "code",
      "execution_count": null,
      "id": "7927c4b1",
      "metadata": {
        "id": "7927c4b1"
      },
      "outputs": [],
      "source": [
        "\n",
        "sns.reset_orig()\n",
        "sns.set(font_scale=1.5)\n",
        "fig, axes = plt.subplots(3, 2, figsize=(20,20))\n",
        "sns.kdeplot(data=data['days_on_platform'], ax=axes[0,0])\n",
        "sns.kdeplot(data=data['minutes_watched'], ax=axes[0,1])\n",
        "sns.kdeplot(data=data['courses_started'], ax=axes[1,0])\n",
        "sns.kdeplot(data=data['practice_exams_started'], ax=axes[1,1])\n",
        "sns.kdeplot(data=data['practice_exams_passed'], ax=axes[2,0])\n",
        "sns.kdeplot(data=data['minutes_spent_on_exams'], ax=axes[2,1]);\n",
        "\n",
        "plt.show()"
      ]
    },
    {
      "cell_type": "code",
      "execution_count": null,
      "id": "d07f63e2",
      "metadata": {
        "id": "d07f63e2"
      },
      "outputs": [],
      "source": [
        "data_no_outliers = data[(data['minutes_watched'] <= 1000)\n",
        "                            & (data['courses_started']<=10)\n",
        "                            & (data['practice_exams_started']<=10)\n",
        "                            & (data['minutes_spent_on_exams']<=40)]"
      ]
    },
    {
      "cell_type": "code",
      "execution_count": null,
      "id": "eecce72e",
      "metadata": {
        "scrolled": false,
        "id": "eecce72e"
      },
      "outputs": [],
      "source": [
        "# Reset any modifications to the plotting context (sns) made via seaborn\n",
        "sns.reset_orig()\n",
        "sns.set(font_scale=1.5)\n",
        "fig, axes = plt.subplots(3, 2, figsize=(20,20))\n",
        "\n",
        "sns.kdeplot(data=data_no_outliers['days_on_platform'], ax=axes[0,0])\n",
        "sns.kdeplot(data=data_no_outliers['minutes_watched'], ax=axes[0,1])\n",
        "sns.kdeplot(data=data_no_outliers['courses_started'], ax=axes[1,0])\n",
        "sns.kdeplot(data=data_no_outliers['practice_exams_started'], ax=axes[1,1])\n",
        "sns.kdeplot(data=data_no_outliers['practice_exams_passed'], ax=axes[2,0])\n",
        "sns.kdeplot(data=data_no_outliers['minutes_spent_on_exams'], ax=axes[2,1]);\n",
        "\n",
        "plt.show()"
      ]
    },
    {
      "cell_type": "markdown",
      "id": "5b9cc4a7",
      "metadata": {
        "id": "5b9cc4a7"
      },
      "source": [
        "### Checking for Multicollinearity"
      ]
    },
    {
      "cell_type": "code",
      "execution_count": null,
      "id": "3bc1e88c",
      "metadata": {
        "id": "3bc1e88c"
      },
      "outputs": [],
      "source": [
        "data_no_outliers.columns.to_numpy()"
      ]
    },
    {
      "cell_type": "code",
      "execution_count": null,
      "id": "228bb4fa",
      "metadata": {
        "id": "228bb4fa"
      },
      "outputs": [],
      "source": [
        "# Selecting the numerical columns for Variance Inflation Factor (VIF) calculation\n",
        "variables = data_no_outliers[['days_on_platform',\n",
        "                              'minutes_watched',\n",
        "                              'courses_started',\n",
        "                              'practice_exams_started',\n",
        "                              'practice_exams_passed',\n",
        "                              'minutes_spent_on_exams']]\n",
        "\n",
        "\n",
        "vif = pd.DataFrame()\n",
        "vif['VIF'] = [variance_inflation_factor(variables.to_numpy(), i) for i in range(variables.shape[1])]\n",
        "vif['features'] = variables.columns\n",
        "\n",
        "vif"
      ]
    },
    {
      "cell_type": "code",
      "execution_count": null,
      "id": "bfd8ef77",
      "metadata": {
        "id": "bfd8ef77"
      },
      "outputs": [],
      "source": [
        "\n",
        "data_no_mult = data_no_outliers.drop('practice_exams_started', axis = 1)\n",
        "data_no_mult.head()"
      ]
    },
    {
      "cell_type": "code",
      "execution_count": null,
      "id": "3cd54128",
      "metadata": {
        "id": "3cd54128"
      },
      "outputs": [],
      "source": [
        "# Selecting specific columns for new Variance Inflation Factor (VIF) calculation\n",
        "variables = data_no_outliers[['days_on_platform',\n",
        "                              'minutes_watched',\n",
        "                              'courses_started',\n",
        "                              'practice_exams_passed',\n",
        "                              'minutes_spent_on_exams']]\n",
        "\n",
        "# Computing the new VIF values for each selected feature\n",
        "vif = pd.DataFrame()\n",
        "vif[\"VIF\"] = [variance_inflation_factor(variables.to_numpy(), i) for i in range(variables.shape[1])]\n",
        "vif[\"features\"] = variables.columns\n",
        "vif"
      ]
    },
    {
      "cell_type": "markdown",
      "id": "39f1e168",
      "metadata": {
        "id": "39f1e168"
      },
      "source": [
        "### Dealing with NaN Values"
      ]
    },
    {
      "cell_type": "code",
      "execution_count": null,
      "id": "b21f9c2a",
      "metadata": {
        "id": "b21f9c2a"
      },
      "outputs": [],
      "source": [
        "data_no_mult.isnull().sum()"
      ]
    },
    {
      "cell_type": "code",
      "execution_count": null,
      "id": "c81a9d87",
      "metadata": {
        "scrolled": false,
        "id": "c81a9d87"
      },
      "outputs": [],
      "source": [
        "data_no_mult.loc[ data_no_mult['student_country'].isna()]"
      ]
    },
    {
      "cell_type": "code",
      "execution_count": null,
      "id": "7b231a13",
      "metadata": {
        "id": "7b231a13"
      },
      "outputs": [],
      "source": [
        "data_no_nulls = data_no_mult.fillna('NAM', axis = 1)"
      ]
    },
    {
      "cell_type": "code",
      "execution_count": null,
      "id": "e4c691c4",
      "metadata": {
        "id": "e4c691c4"
      },
      "outputs": [],
      "source": [
        "data_no_nulls.loc[ data_no_nulls['student_country'] == 'NAM', 'student_country']"
      ]
    },
    {
      "cell_type": "code",
      "execution_count": null,
      "id": "58de46d4",
      "metadata": {
        "id": "58de46d4"
      },
      "outputs": [],
      "source": [
        "data_no_nulls.isnull().sum()"
      ]
    },
    {
      "cell_type": "markdown",
      "id": "81c7040a",
      "metadata": {
        "id": "81c7040a"
      },
      "source": [
        "### Splitting the Data"
      ]
    },
    {
      "cell_type": "code",
      "execution_count": null,
      "id": "17b8b409",
      "metadata": {
        "id": "17b8b409"
      },
      "outputs": [],
      "source": [
        "inputs = data_no_nulls.drop(['purchased'],axis=1)\n",
        "target = data_no_nulls['purchased']"
      ]
    },
    {
      "cell_type": "code",
      "execution_count": null,
      "id": "15af236d",
      "metadata": {
        "id": "15af236d"
      },
      "outputs": [],
      "source": [
        "x_train, x_test, y_train, y_test = train_test_split(inputs,\n",
        "                                                    target,\n",
        "                                                    test_size=0.2,\n",
        "                                                    random_state=365,\n",
        "                                                    stratify = target)"
      ]
    },
    {
      "cell_type": "code",
      "execution_count": null,
      "id": "46e5b382",
      "metadata": {
        "id": "46e5b382"
      },
      "outputs": [],
      "source": [
        "x_train.head()"
      ]
    },
    {
      "cell_type": "markdown",
      "id": "ced87b59",
      "metadata": {
        "id": "ced87b59"
      },
      "source": [
        "### Encoding the Data"
      ]
    },
    {
      "cell_type": "code",
      "execution_count": null,
      "id": "c89c5791",
      "metadata": {
        "id": "c89c5791"
      },
      "outputs": [],
      "source": [
        "enc = OrdinalEncoder(handle_unknown = 'use_encoded_value',\n",
        "                     unknown_value = 170);"
      ]
    },
    {
      "cell_type": "code",
      "execution_count": null,
      "id": "3790879b",
      "metadata": {
        "id": "3790879b"
      },
      "outputs": [],
      "source": [
        "\n",
        "x_train['student_country_enc'] = enc.fit_transform(x_train['student_country'].to_numpy().reshape(-1, 1));\n",
        "x_test['student_country_enc'] = enc.transform(x_test['student_country'].to_numpy().reshape(-1, 1));\n",
        "\n",
        "# Dropping the original 'student_country' column after encoding\n",
        "x_train = x_train.drop('student_country', axis = 1)\n",
        "x_test = x_test.drop('student_country', axis = 1)\n",
        "\n",
        "\n",
        "x_train.head()"
      ]
    },
    {
      "cell_type": "code",
      "execution_count": null,
      "id": "ccbc3b0a",
      "metadata": {
        "id": "ccbc3b0a"
      },
      "outputs": [],
      "source": [
        "\n",
        "# y_train values are converted to integers and x_train values are converted to floating-point numbers.\n",
        "\n",
        "x_train_array = np.asarray(x_train, dtype = 'float')\n",
        "y_train_array = np.asarray(y_train, dtype = 'int')\n",
        "\n",
        "x_test_array = np.asarray(x_test, dtype = 'float')\n",
        "y_test_array = np.asarray(y_test, dtype = 'int')"
      ]
    },
    {
      "cell_type": "markdown",
      "id": "50436b36",
      "metadata": {
        "id": "50436b36"
      },
      "source": [
        "# Creating a Logistic Regression Model"
      ]
    },
    {
      "cell_type": "code",
      "execution_count": null,
      "id": "7e88380e",
      "metadata": {
        "id": "7e88380e"
      },
      "outputs": [],
      "source": [
        "# Creating a logistic regression model using the sm.Logit function\n",
        "log_reg = sm.Logit(y_train_array, x_train_array)\n",
        "log_reg_results = log_reg.fit()\n",
        "log_reg_results.summary()"
      ]
    },
    {
      "cell_type": "code",
      "execution_count": null,
      "id": "108ecdd5",
      "metadata": {
        "id": "108ecdd5"
      },
      "outputs": [],
      "source": [
        "# Generating predictions on the test set and rounding the predictions to nearest integer (0 or 1)\n",
        "y_test_pred_log_reg = [round(log_reg_results.predict(x_test_array)[i], 0)\n",
        "                       for i in range(len(y_test_array))]"
      ]
    },
    {
      "cell_type": "code",
      "execution_count": null,
      "id": "9d8f82c8",
      "metadata": {
        "id": "9d8f82c8"
      },
      "outputs": [],
      "source": [
        "sns.reset_orig()\n",
        "ConfusionMatrixDisplay.from_predictions(\n",
        "    y_test_array, y_test_pred_log_reg,\n",
        "    cmap = 'magma'\n",
        ");\n",
        "\n",
        "plt.show()"
      ]
    },
    {
      "cell_type": "markdown",
      "id": "9d10db71",
      "metadata": {
        "id": "9d10db71"
      },
      "source": [
        "# Creating a K-Nearest Neighbors Model"
      ]
    },
    {
      "cell_type": "code",
      "execution_count": null,
      "id": "2352fb3f",
      "metadata": {
        "id": "2352fb3f"
      },
      "outputs": [],
      "source": [
        "parameters_knn = {'n_neighbors':range(1, 51),  'weights':['uniform', 'distance']}"
      ]
    },
    {
      "cell_type": "code",
      "execution_count": null,
      "id": "8a585e21",
      "metadata": {
        "id": "8a585e21"
      },
      "outputs": [],
      "source": [
        "grid_search_knn = GridSearchCV(estimator = KNeighborsClassifier(),\n",
        "                               param_grid = parameters_knn,\n",
        "                               scoring = 'accuracy')"
      ]
    },
    {
      "cell_type": "code",
      "execution_count": null,
      "id": "bcc88ef6",
      "metadata": {
        "id": "bcc88ef6"
      },
      "outputs": [],
      "source": [
        "grid_search_knn.fit(x_train_array, y_train_array)"
      ]
    },
    {
      "cell_type": "code",
      "execution_count": null,
      "id": "069ed9ca",
      "metadata": {
        "id": "069ed9ca"
      },
      "outputs": [],
      "source": [
        "grid_search_knn.best_params_, grid_search_knn.best_score_"
      ]
    },
    {
      "cell_type": "code",
      "execution_count": null,
      "id": "de3ba50e",
      "metadata": {
        "id": "de3ba50e"
      },
      "outputs": [],
      "source": [
        "# Store the best estimator (model with optimal parameters) in knn_clf\n",
        "knn_clf = grid_search_knn.best_estimator_\n",
        "\n",
        "knn_clf"
      ]
    },
    {
      "cell_type": "code",
      "execution_count": null,
      "id": "42172aaf",
      "metadata": {
        "id": "42172aaf"
      },
      "outputs": [],
      "source": [
        "\n",
        "y_test_pred_knn = knn_clf.predict(x_test_array)\n",
        "sns.reset_orig()\n",
        "#confusion matrix\n",
        "ConfusionMatrixDisplay.from_predictions(\n",
        "    y_test_array, y_test_pred_knn,\n",
        "    labels = knn_clf.classes_,\n",
        "    cmap = 'magma'\n",
        ");\n",
        "\n",
        "plt.show()"
      ]
    },
    {
      "cell_type": "code",
      "execution_count": null,
      "id": "c9924f62",
      "metadata": {
        "id": "c9924f62"
      },
      "outputs": [],
      "source": [
        "\n",
        "print(classification_report(y_test_array,\n",
        "                            y_test_pred_knn,\n",
        "                            target_names = ['0', '1']))"
      ]
    },
    {
      "cell_type": "markdown",
      "id": "81aa87a4",
      "metadata": {
        "id": "81aa87a4"
      },
      "source": [
        "# Creating a Support Vector Machines Model"
      ]
    },
    {
      "cell_type": "code",
      "execution_count": null,
      "id": "4a392bdb",
      "metadata": {
        "id": "4a392bdb"
      },
      "outputs": [],
      "source": [
        "\n",
        "scaling = MinMaxScaler(feature_range=(-1,1))\n",
        "x_train_array_svc = scaling.fit_transform(x_train_array)\n",
        "x_test_array_svc = scaling.transform(x_test_array)"
      ]
    },
    {
      "cell_type": "code",
      "execution_count": null,
      "id": "fd3f1c7d",
      "metadata": {
        "id": "fd3f1c7d"
      },
      "outputs": [],
      "source": [
        "\n",
        "parameters_svc = {'kernel':['linear', 'poly', 'rbf'],\n",
        "                  'C':range(1, 11),\n",
        "                  'gamma': ['scale', 'auto']}"
      ]
    },
    {
      "cell_type": "code",
      "execution_count": null,
      "id": "a1b6a74e",
      "metadata": {
        "id": "a1b6a74e"
      },
      "outputs": [],
      "source": [
        "\n",
        "grid_search_svc = GridSearchCV(estimator = SVC(),\n",
        "                               param_grid = parameters_svc,\n",
        "                               scoring = 'accuracy')"
      ]
    },
    {
      "cell_type": "code",
      "execution_count": null,
      "id": "210b1c34",
      "metadata": {
        "id": "210b1c34"
      },
      "outputs": [],
      "source": [
        "\n",
        "grid_search_svc.fit(x_train_array_svc, y_train_array)"
      ]
    },
    {
      "cell_type": "code",
      "execution_count": null,
      "id": "8663c3d1",
      "metadata": {
        "id": "8663c3d1"
      },
      "outputs": [],
      "source": [
        "\n",
        "grid_search_svc.best_estimator_"
      ]
    },
    {
      "cell_type": "code",
      "execution_count": null,
      "id": "1b1c3c69",
      "metadata": {
        "id": "1b1c3c69"
      },
      "outputs": [],
      "source": [
        "\n",
        "svc_clf = grid_search_svc.best_estimator_"
      ]
    },
    {
      "cell_type": "code",
      "execution_count": null,
      "id": "53e3fa42",
      "metadata": {
        "id": "53e3fa42"
      },
      "outputs": [],
      "source": [
        "\n",
        "y_test_pred_svc = svc_clf.predict(x_test_array_svc)\n",
        "sns.reset_orig()\n",
        "ConfusionMatrixDisplay.from_predictions(\n",
        "    y_test_array, y_test_pred_svc,\n",
        "    labels = svc_clf.classes_,\n",
        "    cmap = 'magma'\n",
        ");\n",
        "plt.show()"
      ]
    },
    {
      "cell_type": "code",
      "execution_count": null,
      "id": "b08818e2",
      "metadata": {
        "id": "b08818e2"
      },
      "outputs": [],
      "source": [
        "\n",
        "print(classification_report(y_test_array,\n",
        "                            y_test_pred_svc,\n",
        "                            target_names = ['0', '1']))"
      ]
    },
    {
      "cell_type": "markdown",
      "id": "172bf1f1",
      "metadata": {
        "id": "172bf1f1"
      },
      "source": [
        "# Creating a Decision Trees Model"
      ]
    },
    {
      "cell_type": "code",
      "execution_count": null,
      "id": "530fbc5c",
      "metadata": {
        "id": "530fbc5c"
      },
      "outputs": [],
      "source": [
        "#hyperparam\n",
        "parameters_dt = {'ccp_alpha':[0,\n",
        "                              0.001,\n",
        "                              0.002,\n",
        "                              0.003,\n",
        "                              0.004,\n",
        "                              0.005]}"
      ]
    },
    {
      "cell_type": "code",
      "execution_count": null,
      "id": "414fab65",
      "metadata": {
        "id": "414fab65"
      },
      "outputs": [],
      "source": [
        "grid_search_dt = GridSearchCV(estimator = DecisionTreeClassifier(random_state = 365),\n",
        "                              param_grid = parameters_dt,\n",
        "                              scoring = 'accuracy')"
      ]
    },
    {
      "cell_type": "code",
      "execution_count": null,
      "id": "984f8d46",
      "metadata": {
        "id": "984f8d46"
      },
      "outputs": [],
      "source": [
        "grid_search_dt.fit(x_train_array, y_train_array)"
      ]
    },
    {
      "cell_type": "code",
      "execution_count": null,
      "id": "cbd72b05",
      "metadata": {
        "id": "cbd72b05"
      },
      "outputs": [],
      "source": [
        "grid_search_dt.best_estimator_"
      ]
    },
    {
      "cell_type": "code",
      "execution_count": null,
      "id": "9ee9f6fa",
      "metadata": {
        "id": "9ee9f6fa"
      },
      "outputs": [],
      "source": [
        "dt_clf = grid_search_dt.best_estimator_"
      ]
    },
    {
      "cell_type": "code",
      "execution_count": null,
      "id": "4d1f5a28",
      "metadata": {
        "id": "4d1f5a28"
      },
      "outputs": [],
      "source": [
        "\n",
        "plt.figure(figsize=(15,10))\n",
        "plot_tree(dt_clf,\n",
        "          filled=True,\n",
        "          feature_names = ['Days on platform',\n",
        "                           'Minutes watched',\n",
        "                           'Courses started',\n",
        "                           'Practice exams passed',\n",
        "                           'Time spent on exams',\n",
        "                           'Student country encoded'],\n",
        "          class_names = ['Will not purchase',\n",
        "                         'Will purchase'])\n",
        "\n",
        "plt.show()"
      ]
    },
    {
      "cell_type": "code",
      "execution_count": null,
      "id": "de6453e5",
      "metadata": {
        "id": "de6453e5"
      },
      "outputs": [],
      "source": [
        "y_test_pred_dt = dt_clf.predict(x_test_array)"
      ]
    },
    {
      "cell_type": "code",
      "execution_count": null,
      "id": "7a64e64b",
      "metadata": {
        "id": "7a64e64b"
      },
      "outputs": [],
      "source": [
        "\n",
        "sns.reset_orig()\n",
        "ConfusionMatrixDisplay.from_predictions(\n",
        "    y_test_array, y_test_pred_dt,\n",
        "    labels = dt_clf.classes_,\n",
        "    cmap = 'magma'\n",
        ");\n",
        "\n",
        "plt.show()"
      ]
    },
    {
      "cell_type": "code",
      "execution_count": null,
      "id": "e8144a96",
      "metadata": {
        "id": "e8144a96"
      },
      "outputs": [],
      "source": [
        "#classif report\n",
        "print(classification_report(y_test_array, y_test_pred_dt))"
      ]
    },
    {
      "cell_type": "markdown",
      "id": "9b95ab9c",
      "metadata": {
        "id": "9b95ab9c"
      },
      "source": [
        "# Creating a Random Forests Model"
      ]
    },
    {
      "cell_type": "code",
      "execution_count": null,
      "id": "f5119482",
      "metadata": {
        "id": "f5119482"
      },
      "outputs": [],
      "source": [
        "\n",
        "rf_clf = RandomForestClassifier(ccp_alpha = 0.0001, random_state = 365)"
      ]
    },
    {
      "cell_type": "code",
      "execution_count": null,
      "id": "e5d59067",
      "metadata": {
        "id": "e5d59067"
      },
      "outputs": [],
      "source": [
        "\n",
        "rf_clf.fit(x_train_array, y_train_array)"
      ]
    },
    {
      "cell_type": "code",
      "execution_count": null,
      "id": "feb288fe",
      "metadata": {
        "id": "feb288fe"
      },
      "outputs": [],
      "source": [
        "\n",
        "y_test_pred_rf = rf_clf.predict(x_test_array)"
      ]
    },
    {
      "cell_type": "code",
      "execution_count": null,
      "id": "6a84f18c",
      "metadata": {
        "id": "6a84f18c"
      },
      "outputs": [],
      "source": [
        "\n",
        "sns.reset_orig()\n",
        "ConfusionMatrixDisplay.from_predictions(\n",
        "    y_test_array, y_test_pred_rf,\n",
        "    labels = rf_clf.classes_,\n",
        "    cmap = 'magma'\n",
        ");\n",
        "\n",
        "plt.show()"
      ]
    },
    {
      "cell_type": "code",
      "execution_count": null,
      "id": "22567b50",
      "metadata": {
        "id": "22567b50"
      },
      "outputs": [],
      "source": [
        "print(classification_report(y_test_array, y_test_pred_rf))"
      ]
    }
  ],
  "metadata": {
    "kernelspec": {
      "display_name": "365engagement",
      "language": "python",
      "name": "365engagement"
    },
    "language_info": {
      "codemirror_mode": {
        "name": "ipython",
        "version": 3
      },
      "file_extension": ".py",
      "mimetype": "text/x-python",
      "name": "python",
      "nbconvert_exporter": "python",
      "pygments_lexer": "ipython3",
      "version": "3.8.17"
    },
    "colab": {
      "provenance": [],
      "include_colab_link": true
    }
  },
  "nbformat": 4,
  "nbformat_minor": 5
}